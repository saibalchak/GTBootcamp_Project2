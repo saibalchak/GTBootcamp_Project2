{
 "cells": [
  {
   "cell_type": "code",
   "execution_count": 1,
   "metadata": {},
   "outputs": [],
   "source": [
    "# Import Dependencies\n",
    "import pandas as pd\n",
    "import os"
   ]
  },
  {
   "cell_type": "code",
   "execution_count": 2,
   "metadata": {},
   "outputs": [],
   "source": [
    "df_list = []"
   ]
  },
  {
   "cell_type": "code",
   "execution_count": 3,
   "metadata": {},
   "outputs": [
    {
     "name": "stdout",
     "output_type": "stream",
     "text": [
      "['daily-summaries-2000.csv', 'daily-summaries-2003.csv', 'daily-summaries-2006.csv', 'daily-summaries-2009.csv', 'daily-summaries-2012.csv', 'daily-summaries-2015.csv', 'daily-summaries-2018.csv']\n"
     ]
    }
   ],
   "source": [
    "print( os.listdir(\"Temperature_File\"))"
   ]
  },
  {
   "cell_type": "code",
   "execution_count": 4,
   "metadata": {},
   "outputs": [],
   "source": [
    "for file in os.listdir(\"Temperature_File\"):\n",
    "    df = pd.read_csv(\"Temperature_File/\" + file)\n",
    "    df_list.append(df)\n",
    "\n",
    "        \n",
    "\n",
    "result = pd.concat(df_list)\n",
    "        \n",
    "        #concatenate dataframes\n",
    "#df = pd.concat(frames, sort=False)\n"
   ]
  },
  {
   "cell_type": "code",
   "execution_count": 5,
   "metadata": {
    "scrolled": true
   },
   "outputs": [
    {
     "data": {
      "text/html": [
       "<div>\n",
       "<style scoped>\n",
       "    .dataframe tbody tr th:only-of-type {\n",
       "        vertical-align: middle;\n",
       "    }\n",
       "\n",
       "    .dataframe tbody tr th {\n",
       "        vertical-align: top;\n",
       "    }\n",
       "\n",
       "    .dataframe thead th {\n",
       "        text-align: right;\n",
       "    }\n",
       "</style>\n",
       "<table border=\"1\" class=\"dataframe\">\n",
       "  <thead>\n",
       "    <tr style=\"text-align: right;\">\n",
       "      <th></th>\n",
       "      <th>STATION</th>\n",
       "      <th>LATITUDE</th>\n",
       "      <th>LONGITUDE</th>\n",
       "      <th>ELEVATION</th>\n",
       "      <th>DATE</th>\n",
       "      <th>TMAX</th>\n",
       "      <th>TMIN</th>\n",
       "      <th>TOBS</th>\n",
       "    </tr>\n",
       "  </thead>\n",
       "  <tbody>\n",
       "    <tr>\n",
       "      <th>0</th>\n",
       "      <td>USW00094789</td>\n",
       "      <td>40.63915</td>\n",
       "      <td>-73.76401</td>\n",
       "      <td>3.4</td>\n",
       "      <td>1/1/2000</td>\n",
       "      <td>7.8</td>\n",
       "      <td>-0.6</td>\n",
       "      <td>NaN</td>\n",
       "    </tr>\n",
       "    <tr>\n",
       "      <th>1</th>\n",
       "      <td>USW00094789</td>\n",
       "      <td>40.63915</td>\n",
       "      <td>-73.76401</td>\n",
       "      <td>3.4</td>\n",
       "      <td>1/2/2000</td>\n",
       "      <td>12.2</td>\n",
       "      <td>2.8</td>\n",
       "      <td>NaN</td>\n",
       "    </tr>\n",
       "    <tr>\n",
       "      <th>2</th>\n",
       "      <td>USW00094789</td>\n",
       "      <td>40.63915</td>\n",
       "      <td>-73.76401</td>\n",
       "      <td>3.4</td>\n",
       "      <td>1/3/2000</td>\n",
       "      <td>15.6</td>\n",
       "      <td>7.8</td>\n",
       "      <td>NaN</td>\n",
       "    </tr>\n",
       "    <tr>\n",
       "      <th>3</th>\n",
       "      <td>USW00094789</td>\n",
       "      <td>40.63915</td>\n",
       "      <td>-73.76401</td>\n",
       "      <td>3.4</td>\n",
       "      <td>1/4/2000</td>\n",
       "      <td>12.8</td>\n",
       "      <td>8.3</td>\n",
       "      <td>NaN</td>\n",
       "    </tr>\n",
       "    <tr>\n",
       "      <th>4</th>\n",
       "      <td>USW00094789</td>\n",
       "      <td>40.63915</td>\n",
       "      <td>-73.76401</td>\n",
       "      <td>3.4</td>\n",
       "      <td>1/5/2000</td>\n",
       "      <td>8.3</td>\n",
       "      <td>-2.2</td>\n",
       "      <td>NaN</td>\n",
       "    </tr>\n",
       "  </tbody>\n",
       "</table>\n",
       "</div>"
      ],
      "text/plain": [
       "       STATION  LATITUDE  LONGITUDE  ELEVATION      DATE  TMAX  TMIN  TOBS\n",
       "0  USW00094789  40.63915  -73.76401        3.4  1/1/2000   7.8  -0.6   NaN\n",
       "1  USW00094789  40.63915  -73.76401        3.4  1/2/2000  12.2   2.8   NaN\n",
       "2  USW00094789  40.63915  -73.76401        3.4  1/3/2000  15.6   7.8   NaN\n",
       "3  USW00094789  40.63915  -73.76401        3.4  1/4/2000  12.8   8.3   NaN\n",
       "4  USW00094789  40.63915  -73.76401        3.4  1/5/2000   8.3  -2.2   NaN"
      ]
     },
     "execution_count": 5,
     "metadata": {},
     "output_type": "execute_result"
    }
   ],
   "source": [
    "result.head()"
   ]
  },
  {
   "cell_type": "code",
   "execution_count": 6,
   "metadata": {},
   "outputs": [
    {
     "data": {
      "text/plain": [
       "STATION      21626\n",
       "LATITUDE     21626\n",
       "LONGITUDE    21626\n",
       "ELEVATION    21626\n",
       "DATE         21626\n",
       "TMAX         21496\n",
       "TMIN         21499\n",
       "TOBS          4680\n",
       "dtype: int64"
      ]
     },
     "execution_count": 6,
     "metadata": {},
     "output_type": "execute_result"
    }
   ],
   "source": [
    "result.count()"
   ]
  },
  {
   "cell_type": "code",
   "execution_count": 7,
   "metadata": {},
   "outputs": [],
   "source": [
    "#add a column for average between TMAX and TMIN\n",
    "#df['avg1'] = df[['TMAX', 'TMIN']].mean(axis=1,skipna=None)\n",
    "#(df[\"TMAX\"]+df[\"TMIN\"])/2\n",
    "#https://stackoverflow.com/questions/34734940/row-wise-average-for-a-subset-of-columns-with-missing-values"
   ]
  },
  {
   "cell_type": "code",
   "execution_count": 13,
   "metadata": {},
   "outputs": [],
   "source": [
    "df = result\n",
    "df['DATE'] = pd.to_datetime(df['DATE'])\n",
    "df[\"YEAR\"] = df[\"DATE\"].dt.year\n",
    "df = df.drop(columns=[\"TOBS\"])\n",
    "df[\"TEMP_AVG\"] = df[[\"TMAX\",\"TMIN\"]].mean(axis=1)\n",
    "sum_df = df.groupby([\"STATION\",\"YEAR\",\"LATITUDE\",\"LONGITUDE\"])[\"TEMP_AVG\"].mean()\n",
    "sum_df=sum_df.reset_index(drop=False)"
   ]
  },
  {
   "cell_type": "code",
   "execution_count": 14,
   "metadata": {},
   "outputs": [
    {
     "data": {
      "text/html": [
       "<div>\n",
       "<style scoped>\n",
       "    .dataframe tbody tr th:only-of-type {\n",
       "        vertical-align: middle;\n",
       "    }\n",
       "\n",
       "    .dataframe tbody tr th {\n",
       "        vertical-align: top;\n",
       "    }\n",
       "\n",
       "    .dataframe thead th {\n",
       "        text-align: right;\n",
       "    }\n",
       "</style>\n",
       "<table border=\"1\" class=\"dataframe\">\n",
       "  <thead>\n",
       "    <tr style=\"text-align: right;\">\n",
       "      <th></th>\n",
       "      <th>STATION</th>\n",
       "      <th>YEAR</th>\n",
       "      <th>LATITUDE</th>\n",
       "      <th>LONGITUDE</th>\n",
       "      <th>TEMP_AVG</th>\n",
       "    </tr>\n",
       "  </thead>\n",
       "  <tbody>\n",
       "    <tr>\n",
       "      <th>0</th>\n",
       "      <td>USC00020404</td>\n",
       "      <td>2003</td>\n",
       "      <td>32.7306</td>\n",
       "      <td>-111.6917</td>\n",
       "      <td>24.045059</td>\n",
       "    </tr>\n",
       "    <tr>\n",
       "      <th>1</th>\n",
       "      <td>USC00020404</td>\n",
       "      <td>2006</td>\n",
       "      <td>32.7306</td>\n",
       "      <td>-111.6917</td>\n",
       "      <td>21.639315</td>\n",
       "    </tr>\n",
       "    <tr>\n",
       "      <th>2</th>\n",
       "      <td>USC00020404</td>\n",
       "      <td>2009</td>\n",
       "      <td>32.7306</td>\n",
       "      <td>-111.6917</td>\n",
       "      <td>22.109066</td>\n",
       "    </tr>\n",
       "    <tr>\n",
       "      <th>3</th>\n",
       "      <td>USC00020404</td>\n",
       "      <td>2012</td>\n",
       "      <td>32.7306</td>\n",
       "      <td>-111.6917</td>\n",
       "      <td>20.966433</td>\n",
       "    </tr>\n",
       "    <tr>\n",
       "      <th>4</th>\n",
       "      <td>USC00020404</td>\n",
       "      <td>2015</td>\n",
       "      <td>32.7306</td>\n",
       "      <td>-111.6917</td>\n",
       "      <td>21.131983</td>\n",
       "    </tr>\n",
       "  </tbody>\n",
       "</table>\n",
       "</div>"
      ],
      "text/plain": [
       "       STATION  YEAR  LATITUDE  LONGITUDE   TEMP_AVG\n",
       "0  USC00020404  2003   32.7306  -111.6917  24.045059\n",
       "1  USC00020404  2006   32.7306  -111.6917  21.639315\n",
       "2  USC00020404  2009   32.7306  -111.6917  22.109066\n",
       "3  USC00020404  2012   32.7306  -111.6917  20.966433\n",
       "4  USC00020404  2015   32.7306  -111.6917  21.131983"
      ]
     },
     "execution_count": 14,
     "metadata": {},
     "output_type": "execute_result"
    }
   ],
   "source": [
    "#df.head(1000)\n",
    "sum_df.head()"
   ]
  },
  {
   "cell_type": "code",
   "execution_count": 10,
   "metadata": {},
   "outputs": [],
   "source": [
    "#convert to CSV\n",
    "#https://pandas.pydata.org/docs/reference/api/pandas.DataFrame.to_csv.html\n",
    "sum_df.to_csv(\"Temperature_File/sum_df.csv\",index=False)\n"
   ]
  },
  {
   "cell_type": "code",
   "execution_count": null,
   "metadata": {},
   "outputs": [],
   "source": [
    "\n"
   ]
  }
 ],
 "metadata": {
  "kernelspec": {
   "display_name": "Python 3",
   "language": "python",
   "name": "python3"
  },
  "language_info": {
   "codemirror_mode": {
    "name": "ipython",
    "version": 3
   },
   "file_extension": ".py",
   "mimetype": "text/x-python",
   "name": "python",
   "nbconvert_exporter": "python",
   "pygments_lexer": "ipython3",
   "version": "3.8.5"
  }
 },
 "nbformat": 4,
 "nbformat_minor": 4
}
